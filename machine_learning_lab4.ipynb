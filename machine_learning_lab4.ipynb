{
  "nbformat": 4,
  "nbformat_minor": 0,
  "metadata": {
    "colab": {
      "provenance": []
    },
    "kernelspec": {
      "name": "python3",
      "display_name": "Python 3"
    },
    "language_info": {
      "name": "python"
    }
  },
  "cells": [
    {
      "cell_type": "markdown",
      "source": [
        "**Section 1 : Handling Missing Data**"
      ],
      "metadata": {
        "id": "50YUXwrBKvfU"
      }
    },
    {
      "cell_type": "markdown",
      "source": [
        "**Exercise 1.1 Identifying Missing values**"
      ],
      "metadata": {
        "id": "KwruAcVzKpO9"
      }
    },
    {
      "cell_type": "code",
      "execution_count": 51,
      "metadata": {
        "colab": {
          "base_uri": "https://localhost:8080/"
        },
        "id": "ZW9K-jIlIlR8",
        "outputId": "a2312aa2-74b8-465e-b2c9-bdf839b560a8"
      },
      "outputs": [
        {
          "output_type": "stream",
          "name": "stdout",
          "text": [
            "      A     B     C    D\n",
            "0   1.0   2.0   3.0  4.0\n",
            "1   5.0   6.0   NaN  8.0\n",
            "2  10.0  11.0  12.0  NaN\n",
            "3   5.0   6.0   NaN  8.0\n",
            "A    0\n",
            "B    0\n",
            "C    2\n",
            "D    1\n",
            "dtype: int64\n"
          ]
        }
      ],
      "source": [
        "import pandas as pd\n",
        "from io import StringIO\n",
        "\n",
        "csv_data = '''A,B,C,D\n",
        "1.0,2.0,3.0,4.0\n",
        "5.0,6.0,,8.0\n",
        "10.0,11.0,12.0,\n",
        "5.0,6.0,,8.0'''\n",
        "df = pd.read_csv(StringIO(csv_data))\n",
        "print(df)\n",
        "print(df.isnull().sum())"
      ]
    },
    {
      "cell_type": "markdown",
      "source": [
        "The missing values in each column are as follows:\n",
        "\n",
        "* A = 0\n",
        "* B = 0\n",
        "* C = 1\n",
        "* D = 1\n",
        "\n",
        "after modifying the code they became like this\n",
        "\n",
        "* A = 0\n",
        "* B = 0\n",
        "* C = 2\n",
        "* D = 1"
      ],
      "metadata": {
        "id": "X3vftM-eLJFl"
      }
    },
    {
      "cell_type": "markdown",
      "source": [
        "**Exercize 1.2: Eliminating Missing Values**"
      ],
      "metadata": {
        "id": "xlQXLyFSNzYQ"
      }
    },
    {
      "cell_type": "code",
      "source": [
        "# Drop rows with any missing values\n",
        "print(df.dropna(axis=0))\n",
        "\n",
        "# Drop columns with any missing values\n",
        "print(df.dropna(axis=1))\n",
        "\n",
        "# Drop rows where all values are missing (none in this case)\n",
        "print(df.dropna(how='all'))\n",
        "\n",
        "# Drop rows with fewer than 4 non-missing values\n",
        "print(df.dropna(thresh=4))\n",
        "\n",
        "# Drop rows where 'C' is missing\n",
        "print(df.dropna(subset=['C']))"
      ],
      "metadata": {
        "colab": {
          "base_uri": "https://localhost:8080/"
        },
        "id": "hyFDyLrqL2Bz",
        "outputId": "faf823aa-dae1-40c0-b718-667559bdc013"
      },
      "execution_count": 52,
      "outputs": [
        {
          "output_type": "stream",
          "name": "stdout",
          "text": [
            "     A    B    C    D\n",
            "0  1.0  2.0  3.0  4.0\n",
            "      A     B\n",
            "0   1.0   2.0\n",
            "1   5.0   6.0\n",
            "2  10.0  11.0\n",
            "3   5.0   6.0\n",
            "      A     B     C    D\n",
            "0   1.0   2.0   3.0  4.0\n",
            "1   5.0   6.0   NaN  8.0\n",
            "2  10.0  11.0  12.0  NaN\n",
            "3   5.0   6.0   NaN  8.0\n",
            "     A    B    C    D\n",
            "0  1.0  2.0  3.0  4.0\n",
            "      A     B     C    D\n",
            "0   1.0   2.0   3.0  4.0\n",
            "2  10.0  11.0  12.0  NaN\n"
          ]
        }
      ]
    },
    {
      "cell_type": "markdown",
      "source": [
        "**Dropping rows (axis=0)**\n",
        "\n",
        "we would prefer dropping the rows when the few rows have missing values, but most of the dataset is complete. Lets say we have 1000 samples and only 5 samples of the dataset have missing values. the effect wont be too much so its cheapter to drop them\n",
        "\n",
        "**Dropping Columns (axis=1)**\n",
        "We would drop the column if the columns has many missing values like maybe above 60% of the data is empty then that means the column is not useful for analysis and another situation where we would choose to dropping the column is when the column is not really affecting or analysis."
      ],
      "metadata": {
        "id": "MmSXxd5uM1BU"
      }
    },
    {
      "cell_type": "markdown",
      "source": [
        "**Exercise 1.3: Imputing Missing Values**"
      ],
      "metadata": {
        "id": "eVC_a6HFN_UD"
      }
    },
    {
      "cell_type": "code",
      "source": [
        "from sklearn.impute import SimpleImputer\n",
        "import numpy as np\n",
        "\n",
        "imr = SimpleImputer(missing_values=np.nan, strategy='mean')\n",
        "imr = imr.fit(df.values)\n",
        "imputed_data = imr.transform(df.values)\n",
        "print(imputed_data)"
      ],
      "metadata": {
        "colab": {
          "base_uri": "https://localhost:8080/"
        },
        "id": "Qj6CgUkFN8PL",
        "outputId": "e47ae878-0b7b-4f55-a1dc-b776173d6638"
      },
      "execution_count": 53,
      "outputs": [
        {
          "output_type": "stream",
          "name": "stdout",
          "text": [
            "[[ 1.          2.          3.          4.        ]\n",
            " [ 5.          6.          7.5         8.        ]\n",
            " [10.         11.         12.          6.66666667]\n",
            " [ 5.          6.          7.5         8.        ]]\n"
          ]
        }
      ]
    },
    {
      "cell_type": "code",
      "source": [
        "from sklearn.impute import SimpleImputer\n",
        "import numpy as np\n",
        "\n",
        "imr = SimpleImputer(missing_values=np.nan, strategy='median')\n",
        "imr = imr.fit(df.values)\n",
        "imputed_data = imr.transform(df.values)\n",
        "print(imputed_data)"
      ],
      "metadata": {
        "colab": {
          "base_uri": "https://localhost:8080/"
        },
        "id": "PniwOAETPCKr",
        "outputId": "2c41f6f9-208f-4b79-f3f4-9fa440248871"
      },
      "execution_count": 54,
      "outputs": [
        {
          "output_type": "stream",
          "name": "stdout",
          "text": [
            "[[ 1.   2.   3.   4. ]\n",
            " [ 5.   6.   7.5  8. ]\n",
            " [10.  11.  12.   8. ]\n",
            " [ 5.   6.   7.5  8. ]]\n"
          ]
        }
      ]
    },
    {
      "cell_type": "code",
      "source": [
        "from sklearn.impute import SimpleImputer\n",
        "import numpy as np\n",
        "\n",
        "imr = SimpleImputer(missing_values=np.nan, strategy='most_frequent')\n",
        "imr = imr.fit(df.values)\n",
        "imputed_data = imr.transform(df.values)\n",
        "print(imputed_data)"
      ],
      "metadata": {
        "colab": {
          "base_uri": "https://localhost:8080/"
        },
        "id": "S3lbLmm3PTRK",
        "outputId": "a85ebaaf-27e2-4104-e9fc-90ccb36de8aa"
      },
      "execution_count": 55,
      "outputs": [
        {
          "output_type": "stream",
          "name": "stdout",
          "text": [
            "[[ 1.  2.  3.  4.]\n",
            " [ 5.  6.  3.  8.]\n",
            " [10. 11. 12.  8.]\n",
            " [ 5.  6.  3.  8.]]\n"
          ]
        }
      ]
    },
    {
      "cell_type": "markdown",
      "source": [
        "When we compare them we can see they differ alot depending on the strategy used."
      ],
      "metadata": {
        "id": "TVFSsXbBPY1S"
      }
    },
    {
      "cell_type": "markdown",
      "source": [
        "And the Reason why 'most_frequent' might be useful when dealing with categorical data its because categorical features are like (gender, city, department) they are not numerical so they dont have numerical meean or median so we cant use the mean and the median. so by using the most_frequent it keeps the distribution of the categorical variable closer to the original dataset. That is also because the mode or most_frequent is the most likely \"guess\" for a missing category."
      ],
      "metadata": {
        "id": "5bpJoOjSPygq"
      }
    },
    {
      "cell_type": "markdown",
      "source": [
        "# **Section 2: Handling Categorical Data**"
      ],
      "metadata": {
        "id": "CCEzQFQsQisy"
      }
    },
    {
      "cell_type": "markdown",
      "source": [
        "**Exercise 2.1: Mapping Ordinal Features**"
      ],
      "metadata": {
        "id": "yL0qSwGVQoMa"
      }
    },
    {
      "cell_type": "code",
      "source": [
        "df = pd.DataFrame([\n",
        "    ['green', 'M', 10.1, 'class2'],\n",
        "    ['red', 'L', 13.5, 'class1'],\n",
        "    ['blue', 'XL', 15.3, 'class2']])\n",
        "df.columns = ['color', 'size', 'price', 'classlabel']\n",
        "\n",
        "size_mapping = {'XL': 3, 'L': 2, 'M': 1}\n",
        "df['size'] = df['size'].map(size_mapping)\n",
        "print(df)\n",
        "\n",
        "# Inverse mapping\n",
        "inv_size_mapping = {v: k for k, v in size_mapping.items()}\n",
        "print(df['size'].map(inv_size_mapping))"
      ],
      "metadata": {
        "colab": {
          "base_uri": "https://localhost:8080/"
        },
        "id": "l48UwKYkQtk6",
        "outputId": "b57beb62-600a-47a1-8719-2ff011cb13de"
      },
      "execution_count": 56,
      "outputs": [
        {
          "output_type": "stream",
          "name": "stdout",
          "text": [
            "   color  size  price classlabel\n",
            "0  green     1   10.1     class2\n",
            "1    red     2   13.5     class1\n",
            "2   blue     3   15.3     class2\n",
            "0     M\n",
            "1     L\n",
            "2    XL\n",
            "Name: size, dtype: object\n"
          ]
        }
      ]
    },
    {
      "cell_type": "code",
      "source": [
        "#now defining the one with the more sizes\n",
        "df = pd.DataFrame([\n",
        "    ['Orange', 'S', 8.2, 'class1'],\n",
        "    ['green', 'M', 10.1, 'class2'],\n",
        "    ['red', 'L', 13.5, 'class1'],\n",
        "    ['blue', 'XL', 15.3, 'class2']])\n",
        "df.columns = ['color', 'size', 'price', 'classlabel']\n",
        "\n",
        "size_mapping = {'XL': 3, 'L': 2, 'M': 1, 'S': 0}\n",
        "df['size'] = df['size'].map(size_mapping)\n",
        "print(df)\n",
        "\n",
        "# Inverse mapping\n",
        "inv_size_mapping = {v: k for k, v in size_mapping.items()}\n",
        "print(df['size'].map(inv_size_mapping))"
      ],
      "metadata": {
        "colab": {
          "base_uri": "https://localhost:8080/"
        },
        "id": "bV2wEV05Q8ZS",
        "outputId": "94813c8f-e6d6-4e90-da6c-416594a62516"
      },
      "execution_count": 57,
      "outputs": [
        {
          "output_type": "stream",
          "name": "stdout",
          "text": [
            "    color  size  price classlabel\n",
            "0  Orange     0    8.2     class1\n",
            "1   green     1   10.1     class2\n",
            "2     red     2   13.5     class1\n",
            "3    blue     3   15.3     class2\n",
            "0     S\n",
            "1     M\n",
            "2     L\n",
            "3    XL\n",
            "Name: size, dtype: object\n"
          ]
        }
      ]
    },
    {
      "cell_type": "markdown",
      "source": [
        "**Exercise 2.2: Encoding Class Labels**"
      ],
      "metadata": {
        "id": "YEl9nklkRvmq"
      }
    },
    {
      "cell_type": "code",
      "source": [
        "#Lets start by trying without encoding and see. you can uncomment the below code\n",
        "\"\"\"\n",
        "from sklearn.linear_model import LogisticRegression\n",
        "\n",
        "X = df[['color', 'size', 'price']]  # color is string\n",
        "y = df['classlabel']\n",
        "\n",
        "clf = LogisticRegression()\n",
        "clf.fit(X, y)\n",
        "\"\"\"\n"
      ],
      "metadata": {
        "colab": {
          "base_uri": "https://localhost:8080/",
          "height": 53
        },
        "id": "YGjw36g5V3zh",
        "outputId": "b21b4668-b08f-4460-b91d-5846f39bf3f5"
      },
      "execution_count": 58,
      "outputs": [
        {
          "output_type": "execute_result",
          "data": {
            "text/plain": [
              "\"\\nfrom sklearn.linear_model import LogisticRegression\\n\\nX = df[['color', 'size', 'price']]  # color is string\\ny = df['classlabel']\\n\\nclf = LogisticRegression()\\nclf.fit(X, y)\\n\""
            ],
            "application/vnd.google.colaboratory.intrinsic+json": {
              "type": "string"
            }
          },
          "metadata": {},
          "execution_count": 58
        }
      ]
    },
    {
      "cell_type": "markdown",
      "source": [
        "You can see its not working because the dataset is not encoded so now we can continue with our dataset"
      ],
      "metadata": {
        "id": "nwgr1YkMWlyg"
      }
    },
    {
      "cell_type": "markdown",
      "source": [
        "Most ML algorithms in sklearn like e.g. Logistic Regression expect numeric input, not strings. So if we have labels as strings \"class1\", \"class2\", the classifier wont know how to compare or compute with them. So encoding like class1 -> 0, class2 -> 1 gives the algorithm a numerical representation it can work with. Its important especially for the target labels (y) since the classifier experts them as numbers"
      ],
      "metadata": {
        "id": "wASgqpU3SHhh"
      }
    },
    {
      "cell_type": "code",
      "source": [
        "from sklearn.preprocessing import LabelEncoder\n",
        "\n",
        "class_le = LabelEncoder()\n",
        "y = class_le.fit_transform(df['classlabel'].values)\n",
        "print(y)\n",
        "\n",
        "# Inverse\n",
        "print(class_le.inverse_transform(y))"
      ],
      "metadata": {
        "colab": {
          "base_uri": "https://localhost:8080/"
        },
        "id": "6hP2q_TDWywA",
        "outputId": "d3f106be-34a2-473b-c24f-466e20a7c638"
      },
      "execution_count": 59,
      "outputs": [
        {
          "output_type": "stream",
          "name": "stdout",
          "text": [
            "[0 1 0 1]\n",
            "['class1' 'class2' 'class1' 'class2']\n"
          ]
        }
      ]
    },
    {
      "cell_type": "code",
      "source": [
        "X = df[['color', 'size', 'price']].values\n",
        "color_le = LabelEncoder()\n",
        "X[:, 0] = color_le.fit_transform(X[:, 0])\n",
        "print(X)\n",
        "\n",
        "# One-hot encoding\n",
        "from sklearn.preprocessing import OneHotEncoder\n",
        "\n",
        "ohe = OneHotEncoder()\n",
        "print(ohe.fit_transform(X[:, [0]]).toarray())  # Only on 'color'\n",
        "\n",
        "# Using pandas get_dummies\n",
        "print(pd.get_dummies(df[['price', 'color', 'size']]))\n",
        "\n",
        "# Drop first column to avoid multicollinearity\n",
        "print(pd.get_dummies(df[['price', 'color', 'size']], drop_first=True))"
      ],
      "metadata": {
        "colab": {
          "base_uri": "https://localhost:8080/"
        },
        "id": "8q7hycbVW6GQ",
        "outputId": "a2216073-bf64-4d8a-a575-fc5581bf576b"
      },
      "execution_count": 60,
      "outputs": [
        {
          "output_type": "stream",
          "name": "stdout",
          "text": [
            "[[0 0 8.2]\n",
            " [2 1 10.1]\n",
            " [3 2 13.5]\n",
            " [1 3 15.3]]\n",
            "[[1. 0. 0. 0.]\n",
            " [0. 0. 1. 0.]\n",
            " [0. 0. 0. 1.]\n",
            " [0. 1. 0. 0.]]\n",
            "   price  size  color_Orange  color_blue  color_green  color_red\n",
            "0    8.2     0          True       False        False      False\n",
            "1   10.1     1         False       False         True      False\n",
            "2   13.5     2         False       False        False       True\n",
            "3   15.3     3         False        True        False      False\n",
            "   price  size  color_blue  color_green  color_red\n",
            "0    8.2     0       False        False      False\n",
            "1   10.1     1       False         True      False\n",
            "2   13.5     2       False        False       True\n",
            "3   15.3     3        True        False      False\n"
          ]
        }
      ]
    },
    {
      "cell_type": "markdown",
      "source": [
        "so now to appply one-hot encoding to the full dataset this is what we can do"
      ],
      "metadata": {
        "id": "53FuYVfPZ1Wh"
      }
    },
    {
      "cell_type": "code",
      "source": [
        "df_encoded = pd.get_dummies(df, columns=['color', 'size'], drop_first=True)\n",
        "\n",
        "# Display the fully encoded DataFrame\n",
        "print(\"One-hot encoded DataFrame (first column per category dropped to avoid multicollinearity):\")\n",
        "print(df_encoded)"
      ],
      "metadata": {
        "colab": {
          "base_uri": "https://localhost:8080/"
        },
        "id": "Qf44AsI7Z7zf",
        "outputId": "46cde8d3-dee2-4089-fb73-98ce40521789"
      },
      "execution_count": 61,
      "outputs": [
        {
          "output_type": "stream",
          "name": "stdout",
          "text": [
            "One-hot encoded DataFrame (first column per category dropped to avoid multicollinearity):\n",
            "   price classlabel  color_blue  color_green  color_red  size_1  size_2  \\\n",
            "0    8.2     class1       False        False      False   False   False   \n",
            "1   10.1     class2       False         True      False    True   False   \n",
            "2   13.5     class1       False        False       True   False    True   \n",
            "3   15.3     class2        True        False      False   False   False   \n",
            "\n",
            "   size_3  \n",
            "0   False  \n",
            "1   False  \n",
            "2   False  \n",
            "3    True  \n"
          ]
        }
      ]
    },
    {
      "cell_type": "markdown",
      "source": [
        "Multicollinearity occurs when dummy columns are linearly dependent. Dropping one column per categorical variable avoids this by providing a reference category, making linear models stable"
      ],
      "metadata": {
        "id": "fNDE1A3xaiTf"
      }
    },
    {
      "cell_type": "markdown",
      "source": [
        "# **Section 3: Partitioning a Dataset**"
      ],
      "metadata": {
        "id": "-NfkZYQdaveX"
      }
    },
    {
      "cell_type": "code",
      "source": [
        "df_wine = pd.read_csv('https://archive.ics.uci.edu/ml/machine-learning-databases/wine/wine.data', header=None)\n",
        "df_wine.columns = ['Class label', 'Alcohol', 'Malic acid', 'Ash', 'Alcalinity of ash', 'Magnesium',\n",
        "                   'Total phenols', 'Flavanoids', 'Nonflavanoid phenols', 'Proanthocyanins',\n",
        "                   'Color intensity', 'Hue', 'OD280/OD315 of diluted wines', 'Proline']\n",
        "print(df_wine.head())\n",
        "\n",
        "from sklearn.model_selection import train_test_split\n",
        "\n",
        "X, y = df_wine.iloc[:, 1:].values, df_wine.iloc[:, 0].values\n",
        "X_train, X_test, y_train, y_test = train_test_split(X, y, test_size=0.3, random_state=0, stratify=y)\n",
        "print('Train shape:', X_train.shape, 'Test shape:', X_test.shape)"
      ],
      "metadata": {
        "colab": {
          "base_uri": "https://localhost:8080/"
        },
        "id": "7j2q9Mqha2w_",
        "outputId": "0e2a1762-7ade-4809-b8ee-af908497864e"
      },
      "execution_count": 62,
      "outputs": [
        {
          "output_type": "stream",
          "name": "stdout",
          "text": [
            "   Class label  Alcohol  Malic acid   Ash  Alcalinity of ash  Magnesium  \\\n",
            "0            1    14.23        1.71  2.43               15.6        127   \n",
            "1            1    13.20        1.78  2.14               11.2        100   \n",
            "2            1    13.16        2.36  2.67               18.6        101   \n",
            "3            1    14.37        1.95  2.50               16.8        113   \n",
            "4            1    13.24        2.59  2.87               21.0        118   \n",
            "\n",
            "   Total phenols  Flavanoids  Nonflavanoid phenols  Proanthocyanins  \\\n",
            "0           2.80        3.06                  0.28             2.29   \n",
            "1           2.65        2.76                  0.26             1.28   \n",
            "2           2.80        3.24                  0.30             2.81   \n",
            "3           3.85        3.49                  0.24             2.18   \n",
            "4           2.80        2.69                  0.39             1.82   \n",
            "\n",
            "   Color intensity   Hue  OD280/OD315 of diluted wines  Proline  \n",
            "0             5.64  1.04                          3.92     1065  \n",
            "1             4.38  1.05                          3.40     1050  \n",
            "2             5.68  1.03                          3.17     1185  \n",
            "3             7.80  0.86                          3.45     1480  \n",
            "4             4.32  1.04                          2.93      735  \n",
            "Train shape: (124, 13) Test shape: (54, 13)\n"
          ]
        }
      ]
    },
    {
      "cell_type": "code",
      "source": [
        "print(pd.Series(y_train).value_counts(normalize=True))\n",
        "print(pd.Series(y_test).value_counts(normalize=True))"
      ],
      "metadata": {
        "colab": {
          "base_uri": "https://localhost:8080/"
        },
        "id": "EAkApzxzcXfu",
        "outputId": "02dadb24-8ee4-40a7-828a-56c9b7d58a6b"
      },
      "execution_count": 63,
      "outputs": [
        {
          "output_type": "stream",
          "name": "stdout",
          "text": [
            "2    0.403226\n",
            "1    0.330645\n",
            "3    0.266129\n",
            "Name: proportion, dtype: float64\n",
            "2    0.388889\n",
            "1    0.333333\n",
            "3    0.277778\n",
            "Name: proportion, dtype: float64\n"
          ]
        }
      ]
    },
    {
      "cell_type": "code",
      "source": [
        "df_wine = pd.read_csv('https://archive.ics.uci.edu/ml/machine-learning-databases/wine/wine.data', header=None)\n",
        "df_wine.columns = ['Class label', 'Alcohol', 'Malic acid', 'Ash', 'Alcalinity of ash', 'Magnesium',\n",
        "                   'Total phenols', 'Flavanoids', 'Nonflavanoid phenols', 'Proanthocyanins',\n",
        "                   'Color intensity', 'Hue', 'OD280/OD315 of diluted wines', 'Proline']\n",
        "print(df_wine.head())\n",
        "\n",
        "from sklearn.model_selection import train_test_split\n",
        "\n",
        "#Now chaning to 0.2 as instructed on the test size\n",
        "X, y = df_wine.iloc[:, 1:].values, df_wine.iloc[:, 0].values\n",
        "X_train, X_test, y_train, y_test = train_test_split(X, y, test_size=0.2, random_state=0, stratify=y)\n",
        "print('Train shape:', X_train.shape, 'Test shape:', X_test.shape)"
      ],
      "metadata": {
        "colab": {
          "base_uri": "https://localhost:8080/"
        },
        "id": "Ns7m7brcca8_",
        "outputId": "1142b868-81f5-4d31-bcad-0dc54ceb549c"
      },
      "execution_count": 64,
      "outputs": [
        {
          "output_type": "stream",
          "name": "stdout",
          "text": [
            "   Class label  Alcohol  Malic acid   Ash  Alcalinity of ash  Magnesium  \\\n",
            "0            1    14.23        1.71  2.43               15.6        127   \n",
            "1            1    13.20        1.78  2.14               11.2        100   \n",
            "2            1    13.16        2.36  2.67               18.6        101   \n",
            "3            1    14.37        1.95  2.50               16.8        113   \n",
            "4            1    13.24        2.59  2.87               21.0        118   \n",
            "\n",
            "   Total phenols  Flavanoids  Nonflavanoid phenols  Proanthocyanins  \\\n",
            "0           2.80        3.06                  0.28             2.29   \n",
            "1           2.65        2.76                  0.26             1.28   \n",
            "2           2.80        3.24                  0.30             2.81   \n",
            "3           3.85        3.49                  0.24             2.18   \n",
            "4           2.80        2.69                  0.39             1.82   \n",
            "\n",
            "   Color intensity   Hue  OD280/OD315 of diluted wines  Proline  \n",
            "0             5.64  1.04                          3.92     1065  \n",
            "1             4.38  1.05                          3.40     1050  \n",
            "2             5.68  1.03                          3.17     1185  \n",
            "3             7.80  0.86                          3.45     1480  \n",
            "4             4.32  1.04                          2.93      735  \n",
            "Train shape: (142, 13) Test shape: (36, 13)\n"
          ]
        }
      ]
    },
    {
      "cell_type": "code",
      "source": [
        "print(pd.Series(y_train).value_counts(normalize=True))\n",
        "print(pd.Series(y_test).value_counts(normalize=True))"
      ],
      "metadata": {
        "colab": {
          "base_uri": "https://localhost:8080/"
        },
        "id": "1su61R-Wcorm",
        "outputId": "20010df9-9020-4965-e7b2-ce03dd597171"
      },
      "execution_count": 65,
      "outputs": [
        {
          "output_type": "stream",
          "name": "stdout",
          "text": [
            "2    0.401408\n",
            "1    0.330986\n",
            "3    0.267606\n",
            "Name: proportion, dtype: float64\n",
            "2    0.388889\n",
            "1    0.333333\n",
            "3    0.277778\n",
            "Name: proportion, dtype: float64\n"
          ]
        }
      ]
    },
    {
      "cell_type": "markdown",
      "source": [
        "if we look above the propotions when the test size was still at 0.2 and also when they were at 0.3 we can see the difference"
      ],
      "metadata": {
        "id": "5KyIDEM0cq3_"
      }
    },
    {
      "cell_type": "markdown",
      "source": [
        "The reason why we usually use stratify=y is to ensure that the train and test sets preserve the same class distribution as the original dataset\n",
        "so if we dont use it random splitting could give an uneven number of samples per class in train or test"
      ],
      "metadata": {
        "id": "o7b0pIbJdNiY"
      }
    },
    {
      "cell_type": "markdown",
      "source": [
        "# **Section 4: Feature Scaling**"
      ],
      "metadata": {
        "id": "Mbe9VXrVdre3"
      }
    },
    {
      "cell_type": "markdown",
      "source": [
        "**Exercise 4.1: Normalization (Min-Max Scaling)**"
      ],
      "metadata": {
        "id": "IoLTcjBGdwh-"
      }
    },
    {
      "cell_type": "code",
      "source": [
        "from sklearn.preprocessing import MinMaxScaler\n",
        "\n",
        "mms = MinMaxScaler()\n",
        "X_train_norm = mms.fit_transform(X_train)\n",
        "X_test_norm = mms.transform(X_test)\n",
        "print(X_train_norm[:2])  # First two rows"
      ],
      "metadata": {
        "colab": {
          "base_uri": "https://localhost:8080/"
        },
        "id": "_ohC-FD4du-f",
        "outputId": "13563f11-26c2-43dc-fc42-d81f8ad9ce5a"
      },
      "execution_count": 66,
      "outputs": [
        {
          "output_type": "stream",
          "name": "stdout",
          "text": [
            "[[0.12573099 0.02964427 0.65240642 0.3814433  0.2962963  0.42068966\n",
            "  0.39451477 0.16981132 0.61075949 0.11634103 0.32978723 0.66300366\n",
            "  0.17261056]\n",
            " [0.79239766 0.14624506 0.51336898 0.31958763 0.30864198 0.42068966\n",
            "  0.44092827 0.24528302 0.36392405 0.28952043 0.73404255 0.56776557\n",
            "  0.7146933 ]]\n"
          ]
        }
      ]
    },
    {
      "cell_type": "code",
      "source": [
        "import matplotlib.pyplot as plt\n",
        "\n",
        "# We will use alcohol here to plot our thing\n",
        "feature_idx = 0  # 0 = Alcohol\n",
        "\n",
        "plt.figure(figsize=(12,5))\n",
        "\n",
        "# Histogram before scaling\n",
        "plt.subplot(1, 2, 1)\n",
        "plt.hist(X_train[:, feature_idx], bins=15, color='skyblue', edgecolor='black')\n",
        "plt.title('Alcohol - Before Scaling')\n",
        "plt.xlabel('Alcohol')\n",
        "plt.ylabel('Frequency')\n",
        "\n",
        "# Histogram after MinMax scaling\n",
        "plt.subplot(1, 2, 2)\n",
        "plt.hist(X_train_norm[:, feature_idx], bins=15, color='salmon', edgecolor='black')\n",
        "plt.title('Alcohol - After MinMax Scaling')\n",
        "plt.xlabel('Alcohol (scaled)')\n",
        "plt.ylabel('Frequency')\n",
        "\n",
        "plt.tight_layout()\n",
        "plt.show()\n"
      ],
      "metadata": {
        "colab": {
          "base_uri": "https://localhost:8080/",
          "height": 361
        },
        "id": "uXB-y5F-eKx3",
        "outputId": "322dfdf7-3f77-4534-fc0d-330b4a1ae279"
      },
      "execution_count": 67,
      "outputs": [
        {
          "output_type": "display_data",
          "data": {
            "text/plain": [
              "<Figure size 1200x500 with 2 Axes>"
            ],
            "image/png": "[encoded data removed]"
          },
          "metadata": {}
        }
      ]
    },
    {
      "cell_type": "markdown",
      "source": [
        "**Exercise 4.2: Standardization**"
      ],
      "metadata": {
        "id": "sNISuMBcenXO"
      }
    },
    {
      "cell_type": "code",
      "source": [
        "from sklearn.preprocessing import StandardScaler\n",
        "\n",
        "stdsc = StandardScaler()\n",
        "X_train_std = stdsc.fit_transform(X_train)\n",
        "X_test_std = stdsc.transform(X_test)\n",
        "print(X_train_std[:2])"
      ],
      "metadata": {
        "colab": {
          "base_uri": "https://localhost:8080/"
        },
        "id": "vFnA2tEXerMm",
        "outputId": "d4925eb4-5de2-4e52-f89b-e2107d39a6c9"
      },
      "execution_count": 68,
      "outputs": [
        {
          "output_type": "stream",
          "name": "stdout",
          "text": [
            "[[-1.45083563 -1.27985582  0.74306024 -0.49136511 -0.37078043 -0.15558334\n",
            "   0.17965734 -1.20822065  1.29150989 -0.84486398 -0.74910758  0.66674895\n",
            "  -0.71247369]\n",
            " [ 1.34746381 -0.75756493 -0.2118226  -0.84257574 -0.29683265 -0.15558334\n",
            "   0.39838279 -0.87620839 -0.0490171  -0.00656951  0.99652401  0.29506888\n",
            "   1.63245344]]\n"
          ]
        }
      ]
    },
    {
      "cell_type": "code",
      "source": [
        "# Compute mean and std of the standardized training set\n",
        "means = X_train_std.mean(axis=0)\n",
        "stds = X_train_std.std(axis=0)\n",
        "\n",
        "for i, (mean, std) in enumerate(zip(means, stds)):\n",
        "    print(f\"Feature {i}: mean={mean:.3f}, std={std:.3f}\")"
      ],
      "metadata": {
        "colab": {
          "base_uri": "https://localhost:8080/"
        },
        "id": "aVQT2cd6e_K1",
        "outputId": "5845cd13-2912-4127-b51e-16187b8b570d"
      },
      "execution_count": 69,
      "outputs": [
        {
          "output_type": "stream",
          "name": "stdout",
          "text": [
            "Feature 0: mean=-0.000, std=1.000\n",
            "Feature 1: mean=-0.000, std=1.000\n",
            "Feature 2: mean=-0.000, std=1.000\n",
            "Feature 3: mean=0.000, std=1.000\n",
            "Feature 4: mean=-0.000, std=1.000\n",
            "Feature 5: mean=-0.000, std=1.000\n",
            "Feature 6: mean=0.000, std=1.000\n",
            "Feature 7: mean=-0.000, std=1.000\n",
            "Feature 8: mean=-0.000, std=1.000\n",
            "Feature 9: mean=0.000, std=1.000\n",
            "Feature 10: mean=0.000, std=1.000\n",
            "Feature 11: mean=0.000, std=1.000\n",
            "Feature 12: mean=0.000, std=1.000\n"
          ]
        }
      ]
    },
    {
      "cell_type": "markdown",
      "source": [
        "We use standardization when features have different scales and algorithms assume centered data, use normalization when you want values in a specific range like [0,1]"
      ],
      "metadata": {
        "id": "Xc0jhWlCfD3t"
      }
    },
    {
      "cell_type": "markdown",
      "source": [
        "# **Section 5: Selecting Meaningful Features**"
      ],
      "metadata": {
        "id": "pUkB5lQHfWg9"
      }
    },
    {
      "cell_type": "markdown",
      "source": [
        "**Exercise 5.1: L1 Regularization for Sparsity**"
      ],
      "metadata": {
        "id": "M-Pb7rPyfc79"
      }
    },
    {
      "cell_type": "code",
      "source": [
        "from sklearn.linear_model import LogisticRegression\n",
        "\n",
        "lr = LogisticRegression(penalty='l1', C=1.0, solver='liblinear', multi_class='ovr')\n",
        "lr.fit(X_train_std, y_train)\n",
        "print('Training accuracy:', lr.score(X_train_std, y_train))\n",
        "print('Test accuracy:', lr.score(X_test_std, y_test))\n",
        "print(lr.coef_)"
      ],
      "metadata": {
        "colab": {
          "base_uri": "https://localhost:8080/"
        },
        "id": "DWY2s6VAfYGH",
        "outputId": "04033d3f-d296-4341-f040-f20c3204d3bd"
      },
      "execution_count": 70,
      "outputs": [
        {
          "output_type": "stream",
          "name": "stdout",
          "text": [
            "Training accuracy: 1.0\n",
            "Test accuracy: 1.0\n",
            "[[ 1.28488906  0.17339299  0.76440221 -1.26192638  0.          0.\n",
            "   1.21597475  0.          0.          0.          0.          0.6030378\n",
            "   2.59600478]\n",
            " [-1.52880082 -0.48652934 -1.09029151  0.58317036  0.          0.\n",
            "   0.5699273   0.07353612  0.08577566 -2.12296029  1.00520989  0.\n",
            "  -2.32011946]\n",
            " [ 0.16125371  0.14041521  0.54363859  0.          0.          0.\n",
            "  -2.4394867   0.          0.          1.80337871 -1.06475436 -0.46695063\n",
            "   0.        ]]\n"
          ]
        },
        {
          "output_type": "stream",
          "name": "stderr",
          "text": [
            "/usr/local/lib/python3.12/dist-packages/sklearn/linear_model/_logistic.py:1256: FutureWarning: 'multi_class' was deprecated in version 1.5 and will be removed in 1.7. Use OneVsRestClassifier(LogisticRegression(..)) instead. Leave it to its default value to avoid this warning.\n",
            "  warnings.warn(\n"
          ]
        }
      ]
    },
    {
      "cell_type": "code",
      "source": [
        "from sklearn.linear_model import LogisticRegression\n",
        "\n",
        "lr = LogisticRegression(penalty='l1', C=10, solver='liblinear', multi_class='ovr')\n",
        "lr.fit(X_train_std, y_train)\n",
        "print('Training accuracy:', lr.score(X_train_std, y_train))\n",
        "print('Test accuracy:', lr.score(X_test_std, y_test))\n",
        "print(lr.coef_)"
      ],
      "metadata": {
        "colab": {
          "base_uri": "https://localhost:8080/"
        },
        "id": "9P5tPsedfkBl",
        "outputId": "f68a1241-901b-4bae-905d-58f714e771c9"
      },
      "execution_count": 72,
      "outputs": [
        {
          "output_type": "stream",
          "name": "stdout",
          "text": [
            "Training accuracy: 1.0\n",
            "Test accuracy: 1.0\n",
            "[[ 2.79561702  0.98657134  2.04341786 -3.28763346  0.33629692  0.\n",
            "   2.02616476  0.          0.          0.          0.          1.97402874\n",
            "   4.19288567]\n",
            " [-2.55220356 -1.53197711 -2.821388    1.88227559  0.          0.\n",
            "   1.58506564  1.24784276  0.34779141 -7.08883437  1.86592172  0.\n",
            "  -6.19107649]\n",
            " [ 2.02838916  0.03396219  1.48370521  0.          0.          0.\n",
            "  -5.05737165 -0.59809378  0.          3.25469175 -2.17053388 -1.44680778\n",
            "   0.        ]]\n"
          ]
        },
        {
          "output_type": "stream",
          "name": "stderr",
          "text": [
            "/usr/local/lib/python3.12/dist-packages/sklearn/linear_model/_logistic.py:1256: FutureWarning: 'multi_class' was deprecated in version 1.5 and will be removed in 1.7. Use OneVsRestClassifier(LogisticRegression(..)) instead. Leave it to its default value to avoid this warning.\n",
            "  warnings.warn(\n"
          ]
        }
      ]
    },
    {
      "cell_type": "markdown",
      "source": [
        "We can see the accuracy even decreases after reducin the c to 0.1 but in 1 and 10 it stays the same"
      ],
      "metadata": {
        "id": "OxDAWXyufu1l"
      }
    },
    {
      "cell_type": "code",
      "source": [
        "#but for seeing it happening properly we can do this way\n",
        "# Use L1 penalty and OVR for multiclass\n",
        "Cs = [0.01, 0.1, 1, 10, 100]  # try multiple C values\n",
        "coefs = []\n",
        "\n",
        "for C in Cs:\n",
        "    lr = LogisticRegression(penalty='l1', C=C, solver='liblinear', multi_class='ovr')\n",
        "    lr.fit(X_train_std, y_train)\n",
        "    coefs.append(lr.coef_[0])  # take the coefficients for the first class\n",
        "\n",
        "coefs = np.array(coefs)\n",
        "\n",
        "# Plot coefficients vs. C\n",
        "plt.figure(figsize=(10,6))\n",
        "for i in range(coefs.shape[1]):\n",
        "    plt.plot(Cs, coefs[:, i], marker='o', label=f'Feature {i}')\n",
        "plt.xscale('log')\n",
        "plt.xlabel('C (Inverse of regularization strength)')\n",
        "plt.ylabel('Coefficient value')\n",
        "plt.title('Effect of L1 Regularization on Coefficients')\n",
        "plt.legend()\n",
        "plt.grid(True)\n",
        "plt.show()\n"
      ],
      "metadata": {
        "colab": {
          "base_uri": "https://localhost:8080/",
          "height": 756
        },
        "id": "WeIwZqwQgLsW",
        "outputId": "e43087c4-7f0c-4ec2-af9c-529294755701"
      },
      "execution_count": 74,
      "outputs": [
        {
          "output_type": "stream",
          "name": "stderr",
          "text": [
            "/usr/local/lib/python3.12/dist-packages/sklearn/linear_model/_logistic.py:1256: FutureWarning: 'multi_class' was deprecated in version 1.5 and will be removed in 1.7. Use OneVsRestClassifier(LogisticRegression(..)) instead. Leave it to its default value to avoid this warning.\n",
            "  warnings.warn(\n",
            "/usr/local/lib/python3.12/dist-packages/sklearn/linear_model/_logistic.py:1256: FutureWarning: 'multi_class' was deprecated in version 1.5 and will be removed in 1.7. Use OneVsRestClassifier(LogisticRegression(..)) instead. Leave it to its default value to avoid this warning.\n",
            "  warnings.warn(\n",
            "/usr/local/lib/python3.12/dist-packages/sklearn/linear_model/_logistic.py:1256: FutureWarning: 'multi_class' was deprecated in version 1.5 and will be removed in 1.7. Use OneVsRestClassifier(LogisticRegression(..)) instead. Leave it to its default value to avoid this warning.\n",
            "  warnings.warn(\n",
            "/usr/local/lib/python3.12/dist-packages/sklearn/linear_model/_logistic.py:1256: FutureWarning: 'multi_class' was deprecated in version 1.5 and will be removed in 1.7. Use OneVsRestClassifier(LogisticRegression(..)) instead. Leave it to its default value to avoid this warning.\n",
            "  warnings.warn(\n",
            "/usr/local/lib/python3.12/dist-packages/sklearn/linear_model/_logistic.py:1256: FutureWarning: 'multi_class' was deprecated in version 1.5 and will be removed in 1.7. Use OneVsRestClassifier(LogisticRegression(..)) instead. Leave it to its default value to avoid this warning.\n",
            "  warnings.warn(\n"
          ]
        },
        {
          "output_type": "display_data",
          "data": {
            "text/plain": [
              "<Figure size 1000x600 with 1 Axes>"
            ],
            "image/png": "[encoded data removed]"
          },
          "metadata": {}
        }
      ]
    },
    {
      "cell_type": "markdown",
      "source": [
        "**Exercise 5.2: Sequential Backward Selection (SBS)**"
      ],
      "metadata": {
        "id": "K9DqogJpgbSF"
      }
    },
    {
      "cell_type": "code",
      "source": [
        "# Paste SBS class here\n",
        "from sklearn.base import BaseEstimator, clone\n",
        "from itertools import combinations\n",
        "import numpy as np\n",
        "from sklearn.metrics import accuracy_score\n",
        "\n",
        "class SBS(BaseEstimator):\n",
        "    def __init__(self, estimator, k_features, scoring=accuracy_score,\n",
        "                 test_size=0.25, random_state=1):\n",
        "        self.scoring = scoring\n",
        "        self.estimator = clone(estimator)\n",
        "        self.k_features = k_features\n",
        "        self.test_size = test_size\n",
        "        self.random_state = random_state\n",
        "\n",
        "    def fit(self, X, y):\n",
        "        X_train, X_test, y_train, y_test = \\\n",
        "            train_test_split(X, y, test_size=self.test_size,\n",
        "                             random_state=self.random_state)\n",
        "\n",
        "        dim = X_train.shape[1]\n",
        "        self.indices_ = tuple(range(dim))\n",
        "        self.subsets_ = [self.indices_]\n",
        "        score = self._calc_score(X_train, y_train,\n",
        "                                 X_test, y_test, self.indices_)\n",
        "        self.scores_ = [score]\n",
        "\n",
        "        while dim > self.k_features:\n",
        "            scores = []\n",
        "            subsets = []\n",
        "\n",
        "            for p in combinations(self.indices_, r=dim - 1):\n",
        "                score = self._calc_score(X_train, y_train,\n",
        "                                         X_test, y_test, p)\n",
        "                scores.append(score)\n",
        "                subsets.append(p)\n",
        "\n",
        "            best_score = max(scores)\n",
        "            best_idx = np.argmax(scores)\n",
        "            self.indices_ = subsets[best_idx]\n",
        "            self.subsets_.append(self.indices_)\n",
        "            self.scores_.append(best_score)\n",
        "            dim -= 1\n",
        "\n",
        "        return self\n",
        "\n",
        "    def transform(self, X):\n",
        "        return X[:, self.indices_]\n",
        "\n",
        "    def _calc_score(self, X_train, y_train, X_test, y_test, indices):\n",
        "        self.estimator.fit(X_train[:, indices], y_train)\n",
        "        y_pred = self.estimator.predict(X_test[:, indices])\n",
        "        score = self.scoring(y_test, y_pred)\n",
        "        return score\n",
        "\n",
        "\n",
        "from sklearn.neighbors import KNeighborsClassifier\n",
        "import matplotlib.pyplot as plt\n",
        "from sklearn.model_selection import train_test_split # Import train_test_split\n",
        "\n",
        "knn = KNeighborsClassifier(n_neighbors=5)\n",
        "sbs = SBS(knn, k_features=3)\n",
        "sbs.fit(X_train_std, y_train)\n",
        "\n",
        "k_feat = [len(k) for k in sbs.subsets_]\n",
        "plt.plot(k_feat, sbs.scores_, marker='o')\n",
        "plt.ylim([0.7, 1.02])\n",
        "plt.ylabel('Accuracy')\n",
        "plt.xlabel('Number of features')\n",
        "plt.grid()\n",
        "plt.show()\n",
        "\n",
        "# Selected features\n",
        "k3 = list(sbs.subsets_[10])\n",
        "print(df_wine.columns[1:][k3])\n",
        "\n",
        "# Performance with selected\n",
        "knn.fit(X_train_std[:, k3], y_train)\n",
        "print('Test accuracy:', knn.score(X_test_std[:, k3], y_test))"
      ],
      "metadata": {
        "colab": {
          "base_uri": "https://localhost:8080/",
          "height": 484
        },
        "id": "opKsHvtFgdbe",
        "outputId": "d938b54a-d200-4024-bfff-70d506cb3fc4"
      },
      "execution_count": 81,
      "outputs": [
        {
          "output_type": "display_data",
          "data": {
            "text/plain": [
              "<Figure size 640x480 with 1 Axes>"
            ],
            "image/png": "[encoded data removed]"
          },
          "metadata": {}
        },
        {
          "output_type": "stream",
          "name": "stdout",
          "text": [
            "Index(['Alcohol', 'Flavanoids', 'Proanthocyanins'], dtype='object')\n",
            "Test accuracy: 0.9166666666666666\n"
          ]
        }
      ]
    },
    {
      "cell_type": "markdown",
      "source": [
        "the more we take the number of k_features is the more the accuracy starts high as compared to when we are just using the 1 which starts from the low accuracy. this is taken from the plot"
      ],
      "metadata": {
        "id": "u927It8Ih5PN"
      }
    },
    {
      "cell_type": "markdown",
      "source": [
        "**Exercise 5.3: Feature Importance with Random Forests**"
      ],
      "metadata": {
        "id": "wO1ixUCoiN-8"
      }
    },
    {
      "cell_type": "code",
      "source": [
        "from sklearn.ensemble import RandomForestClassifier\n",
        "\n",
        "feat_labels = df_wine.columns[1:]\n",
        "forest = RandomForestClassifier(n_estimators=500, random_state=1)\n",
        "forest.fit(X_train, y_train)\n",
        "importances = forest.feature_importances_\n",
        "indices = np.argsort(importances)[::-1]\n",
        "\n",
        "for f in range(X_train.shape[1]):\n",
        "    print(\"%2d) %-*s %f\" % (f + 1, 30, feat_labels[indices[f]], importances[indices[f]]))\n",
        "\n",
        "plt.title('Feature Importance')\n",
        "plt.bar(range(X_train.shape[1]), importances[indices], align='center')\n",
        "plt.xticks(range(X_train.shape[1]), feat_labels[indices], rotation=90)\n",
        "plt.xlim([-1, X_train.shape[1]])\n",
        "plt.tight_layout()\n",
        "plt.show()"
      ],
      "metadata": {
        "colab": {
          "base_uri": "https://localhost:8080/",
          "height": 713
        },
        "id": "tVXO5yVfh4Wc",
        "outputId": "bbdc4432-f01d-4327-bc1c-1897bc742463"
      },
      "execution_count": 82,
      "outputs": [
        {
          "output_type": "stream",
          "name": "stdout",
          "text": [
            " 1) Proline                        0.188217\n",
            " 2) Flavanoids                     0.151884\n",
            " 3) Color intensity                0.150182\n",
            " 4) Alcohol                        0.137097\n",
            " 5) OD280/OD315 of diluted wines   0.126218\n",
            " 6) Hue                            0.062428\n",
            " 7) Total phenols                  0.051911\n",
            " 8) Malic acid                     0.031839\n",
            " 9) Magnesium                      0.028725\n",
            "10) Alcalinity of ash              0.025410\n",
            "11) Proanthocyanins                0.018676\n",
            "12) Ash                            0.014667\n",
            "13) Nonflavanoid phenols           0.012745\n"
          ]
        },
        {
          "output_type": "display_data",
          "data": {
            "text/plain": [
              "<Figure size 640x480 with 1 Axes>"
            ],
            "image/png": "[encoded data removed]"
          },
          "metadata": {}
        }
      ]
    },
    {
      "cell_type": "markdown",
      "source": [
        "we are using the SelectFromModel with threashold = 0.1 on those selected features and then compare top features from RF and SBS"
      ],
      "metadata": {
        "id": "3C4qky4DjHBN"
      }
    },
    {
      "cell_type": "code",
      "source": [
        "# --- NEW CELL: SelectFromModel + comparison with SBS ---\n",
        "from sklearn.feature_selection import SelectFromModel\n",
        "\n",
        "# Select features with importance >= 0.1\n",
        "sfm = SelectFromModel(forest, threshold=0.1, prefit=True)\n",
        "X_train_sfm = sfm.transform(X_train)\n",
        "X_test_sfm = sfm.transform(X_test)\n",
        "\n",
        "# Print selected features\n",
        "selected_idx = sfm.get_support(indices=True)\n",
        "selected_feat_labels = feat_labels[selected_idx]\n",
        "print(\"Selected features (importance >= 0.1):\", selected_feat_labels.tolist())\n",
        "\n",
        "# Train the same RF on selected features\n",
        "forest_sfm = RandomForestClassifier(n_estimators=500, random_state=1)\n",
        "forest_sfm.fit(X_train_sfm, y_train)\n",
        "print(\"Test accuracy on selected features:\", forest_sfm.score(X_test_sfm, y_test))\n",
        "\n",
        "# Compare top SBS features\n",
        "print(\"Top SBS features:\", df_wine.columns[1:][k3].tolist())"
      ],
      "metadata": {
        "colab": {
          "base_uri": "https://localhost:8080/"
        },
        "id": "cvEY4T5rjFes",
        "outputId": "6d81bd76-c7cc-439e-9e84-986f52e33404"
      },
      "execution_count": 83,
      "outputs": [
        {
          "output_type": "stream",
          "name": "stdout",
          "text": [
            "Selected features (importance >= 0.1): ['Alcohol', 'Flavanoids', 'Color intensity', 'OD280/OD315 of diluted wines', 'Proline']\n",
            "Test accuracy on selected features: 0.9722222222222222\n",
            "Top SBS features: ['Alcohol', 'Flavanoids', 'Proanthocyanins']\n"
          ]
        }
      ]
    },
    {
      "cell_type": "markdown",
      "source": [
        "# **Conclusion**\n",
        "\n",
        "I learnt how preprocessing: handlng missing data, encoding categorical features, and scaling numerical features affects model performance, Proper encoding and scaling help algorihms converge faster and make feaures comparable. Feature selection methods like SBS and RandomForest importance identify the most relevant features. Stratified train/test splitting preserves class proportions. Overall, good preprocessing imporoves accuracy, stability, and interpretability of models.\n",
        "\n",
        "**Answers to questions**\n",
        "1. Handling missing data is important because most machine learning algorithms cannot work with missing vales, Leave missing data can lead t Errors or crashed during the modl training, Biased or inaccurate model, loss of information if not handled properly. All this because of some missing data.\n",
        "2. Label Encoding: Use when the categorical feature is ordinal(has a natual ordr e.g. like S < M )\n",
        "and use One-Hot encoding when the categorical feature is norminal or w\n",
        "3. Feature scaling ensures that all ensurs that all features contrbute equally to the distance or margin calculatoinis\n",
        "LMM Uses distance between poits, without scaling features wth larger ranges may contribute more\n",
        "SVM optimization depends on feature magnitudes, Unscaeld features an slow convergence and lead to suboptimal hyperplaces.\n",
        "4. L1 is automatic and integrested in trainng while SBS is a wrapper method that explkc"
      ],
      "metadata": {
        "id": "mj7FFlBhjUst"
      }
    }
  ]
}